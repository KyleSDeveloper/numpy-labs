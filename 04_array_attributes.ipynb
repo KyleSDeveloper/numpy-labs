{
 "cells": [
  {
   "cell_type": "markdown",
   "metadata": {},
   "source": [
    "## 04 - NumPy Array Attributes Exercises\n",
    "\n",
    "**Note**: If any exercises require techniques we haven't covered yet - you should look this up! It's part of the learning process, we need to build the muscle of learning how to do things we haven't seen before.\n",
    "\n",
    "Don't be shy, ask for help on Discord!\n",
    "\n",
    "1. Create a 2D NumPy array with 4 rows and 5 columns filled with random integers between 0 and 9. Print the dtype of the array.\n",
    "\n"
   ]
  },
  {
   "cell_type": "code",
   "execution_count": 1,
   "metadata": {},
   "outputs": [
    {
     "name": "stdout",
     "output_type": "stream",
     "text": [
      "[[1 7 5 3 8]\n",
      " [6 5 6 6 1]\n",
      " [0 3 8 2 5]\n",
      " [6 4 8 1 1]]\n",
      "int64\n"
     ]
    }
   ],
   "source": [
    "import numpy as np\n",
    "\n",
    "a = np.random.randint(low=0, high=9, size=(4, 5))\n",
    "print(a)\n",
    "print(a.dtype)"
   ]
  },
  {
   "cell_type": "markdown",
   "metadata": {},
   "source": [
    "\n",
    "2. Create a 3D NumPy array with 2 matrices of 3 rows and 4 columns filled with the value 3.14. Print the shape of the array.\n"
   ]
  },
  {
   "cell_type": "code",
   "execution_count": 2,
   "metadata": {},
   "outputs": [
    {
     "name": "stdout",
     "output_type": "stream",
     "text": [
      "[[[3.14 3.14 3.14 3.14]\n",
      "  [3.14 3.14 3.14 3.14]\n",
      "  [3.14 3.14 3.14 3.14]]\n",
      "\n",
      " [[3.14 3.14 3.14 3.14]\n",
      "  [3.14 3.14 3.14 3.14]\n",
      "  [3.14 3.14 3.14 3.14]]]\n",
      "(2, 3, 4)\n"
     ]
    }
   ],
   "source": [
    "a = np.full((2, 3, 4), 3.14)\n",
    "print(a)\n",
    "print(a.shape)"
   ]
  },
  {
   "cell_type": "markdown",
   "metadata": {},
   "source": [
    "\n",
    "3. Create a 1D NumPy array containing the numbers from 1 to 10. Print the number of dimensions (ndim) of the array.\n"
   ]
  },
  {
   "cell_type": "code",
   "execution_count": 3,
   "metadata": {},
   "outputs": [
    {
     "name": "stdout",
     "output_type": "stream",
     "text": [
      "[ 1  2  3  4  5  6  7  8  9 10]\n",
      "1\n"
     ]
    }
   ],
   "source": [
    "a = np.arange(1, 11)\n",
    "print(a)\n",
    "print(a.ndim)"
   ]
  },
  {
   "cell_type": "markdown",
   "metadata": {},
   "source": [
    "\n",
    "4. Create a 2D NumPy array with 3 rows and 3 columns filled with the value 1. Print the total number of elements (size) in the array.\n"
   ]
  },
  {
   "cell_type": "code",
   "execution_count": 4,
   "metadata": {},
   "outputs": [
    {
     "name": "stdout",
     "output_type": "stream",
     "text": [
      "9\n"
     ]
    }
   ],
   "source": [
    "a = np.full((3, 3), 1)\n",
    "print(a.size)"
   ]
  },
  {
   "cell_type": "markdown",
   "metadata": {},
   "source": [
    "\n",
    "5. Create a 1D NumPy array containing the numbers from 1 to 5 with the dtype 'int8'. Print the size of each element (itemsize) in the array. Try again with the dtype 'float64'. What do you notice?\n"
   ]
  },
  {
   "cell_type": "code",
   "execution_count": 5,
   "metadata": {},
   "outputs": [
    {
     "name": "stdout",
     "output_type": "stream",
     "text": [
      "[1. 2. 3. 4. 5.]\n",
      "8\n"
     ]
    }
   ],
   "source": [
    "a = np.array([1, 2, 3, 4, 5], dtype='float64')\n",
    "print(a)\n",
    "print(a.itemsize)"
   ]
  },
  {
   "cell_type": "markdown",
   "metadata": {},
   "source": [
    "\n",
    "6. Create a 3D NumPy array with 2 matrices of 2 rows and 3 columns filled with the value 255. Print the total size (nbytes) of the array in bytes.\n"
   ]
  },
  {
   "cell_type": "code",
   "execution_count": 6,
   "metadata": {},
   "outputs": [
    {
     "name": "stdout",
     "output_type": "stream",
     "text": [
      "[[[255 255 255]\n",
      "  [255 255 255]]\n",
      "\n",
      " [[255 255 255]\n",
      "  [255 255 255]]]\n",
      "96\n"
     ]
    }
   ],
   "source": [
    "a = np.full((2, 2, 3), 255)\n",
    "print(a)\n",
    "print(a.nbytes)\n"
   ]
  },
  {
   "cell_type": "markdown",
   "metadata": {},
   "source": [
    "\n",
    "7. Create a 2D NumPy array with 2 rows and 3 columns filled with the values [[1, 2, 3], [4, 5, 6]]. Print the transpose of the array. What is the transpose of a tranpose?\n"
   ]
  },
  {
   "cell_type": "code",
   "execution_count": 7,
   "metadata": {},
   "outputs": [
    {
     "name": "stdout",
     "output_type": "stream",
     "text": [
      "[[1 4]\n",
      " [2 5]\n",
      " [3 6]]\n",
      "[[1 2 3]\n",
      " [4 5 6]]\n"
     ]
    }
   ],
   "source": [
    "a = np.array([[1, 2, 3], [4, 5, 6]])\n",
    "print(a.T)\n",
    "a = a.T\n",
    "b = a.T\n",
    "print(b)"
   ]
  },
  {
   "cell_type": "markdown",
   "metadata": {},
   "source": [
    "\n",
    "8. Create a 1D NumPy array containing the numbers from 1 to 9. Reshape the array into a 3x3 matrix and assign it to a new variable. Print the base of the new array.\n"
   ]
  },
  {
   "cell_type": "code",
   "execution_count": 8,
   "metadata": {},
   "outputs": [
    {
     "name": "stdout",
     "output_type": "stream",
     "text": [
      "[[1 2 3]\n",
      " [4 5 6]\n",
      " [7 8 9]]\n",
      "[1 2 3 4 5 6 7 8 9]\n"
     ]
    }
   ],
   "source": [
    "a = np.arange(1, 10)\n",
    "b = a.reshape(3, 3)\n",
    "print(b)\n",
    "print(b.base)"
   ]
  },
  {
   "cell_type": "markdown",
   "metadata": {},
   "source": [
    "\n",
    "9. Create a 2D NumPy array with 3 rows and 4 columns filled with random float numbers between 0 and 1. Print the dtype, shape, and ndim of the array.\n"
   ]
  },
  {
   "cell_type": "code",
   "execution_count": 13,
   "metadata": {},
   "outputs": [
    {
     "name": "stdout",
     "output_type": "stream",
     "text": [
      "[[0.70931977 0.97501809 0.43469694 0.18301245]\n",
      " [0.90432975 0.2672367  0.04318761 0.29147628]\n",
      " [0.48108717 0.56159702 0.87826551 0.73937977]]\n",
      "(3, 4)\n",
      "2\n"
     ]
    }
   ],
   "source": [
    "a = np.random.random((3, 4)).astype(np.float64)\n",
    "print(a)\n",
    "print(a.shape)\n",
    "print(a.ndim)"
   ]
  },
  {
   "cell_type": "markdown",
   "metadata": {},
   "source": [
    "\n",
    "10. Create a 3D NumPy array with 2 matrices of 2 rows and 2 columns filled with the value 10. Print the size and itemsize of the array.\n"
   ]
  },
  {
   "cell_type": "code",
   "execution_count": 17,
   "metadata": {},
   "outputs": [
    {
     "name": "stdout",
     "output_type": "stream",
     "text": [
      "[[[10 10]\n",
      "  [10 10]]\n",
      "\n",
      " [[10 10]\n",
      "  [10 10]]]\n",
      "8\n",
      "8\n"
     ]
    }
   ],
   "source": [
    "a =np.full((2, 2, 2), 10)\n",
    "print(a)\n",
    "print(a.size)\n",
    "print(a.itemsize)"
   ]
  },
  {
   "cell_type": "markdown",
   "metadata": {},
   "source": [
    "\n",
    "11. Create a 1D NumPy array containing the numbers from 1 to 6. Reshape the array into a 2x3 matrix and assign it to a new variable. Print the nbytes of both the original and the new array.\n"
   ]
  },
  {
   "cell_type": "code",
   "execution_count": 19,
   "metadata": {},
   "outputs": [
    {
     "name": "stdout",
     "output_type": "stream",
     "text": [
      "[1 2 3 4 5 6]\n",
      "[[1 2 3]\n",
      " [4 5 6]]\n",
      "48\n",
      "48\n"
     ]
    }
   ],
   "source": [
    "a = np.arange(1, 7)\n",
    "b = a.reshape(2, 3)\n",
    "print(a)\n",
    "print(b)\n",
    "print(a.nbytes)\n",
    "print(b.nbytes)"
   ]
  },
  {
   "cell_type": "markdown",
   "metadata": {},
   "source": [
    "\n",
    "12. Create a 2D NumPy array with 4 rows and 4 columns filled with the value 1. Use advanced indexing to create a new array containing only the 2nd and 4th rows of the original array. Print the base of the new array. \n",
    " \n",
    "We have one example of advanced indexing in the material see if you can extrapolate.\n"
   ]
  },
  {
   "cell_type": "code",
   "execution_count": 22,
   "metadata": {},
   "outputs": [
    {
     "name": "stdout",
     "output_type": "stream",
     "text": [
      "[[1. 1. 1. 1.]\n",
      " [1. 1. 1. 1.]\n",
      " [1. 1. 1. 1.]\n",
      " [1. 1. 1. 1.]]\n",
      "[[1. 1. 1. 1.]\n",
      " [1. 1. 1. 1.]]\n",
      "None\n"
     ]
    }
   ],
   "source": [
    "a = np.ones((4, 4))\n",
    "b = a[[1, 3]]\n",
    "print(a)\n",
    "print(b)\n",
    "print(b.base)"
   ]
  },
  {
   "cell_type": "markdown",
   "metadata": {},
   "source": [
    "\n",
    "13. Create a 1D NumPy array containing the numbers from 1 to 12. Reshape the array into a 3x4 matrix. Print the shape and ndim of the new array.\n"
   ]
  },
  {
   "cell_type": "code",
   "execution_count": 28,
   "metadata": {},
   "outputs": [
    {
     "name": "stdout",
     "output_type": "stream",
     "text": [
      "[ 1  2  3  4  5  6  7  8  9 10 11 12] [[ 1  2  3  4]\n",
      " [ 5  6  7  8]\n",
      " [ 9 10 11 12]] 2 (3, 4)\n"
     ]
    }
   ],
   "source": [
    "a, b = np.arange(1, 13), a.reshape(3, 4)\n",
    "print(a, b, b.ndim, b.shape)"
   ]
  },
  {
   "cell_type": "markdown",
   "metadata": {},
   "source": [
    "\n",
    "14. Create a 2D NumPy array with 3 rows and 3 columns filled with random integers between 1 and 100. Print the dtype, itemsize, and nbytes of the array.\n"
   ]
  },
  {
   "cell_type": "code",
   "execution_count": 33,
   "metadata": {},
   "outputs": [
    {
     "name": "stdout",
     "output_type": "stream",
     "text": [
      "[[48 28 93]\n",
      " [20 81 42]\n",
      " [67 17 29]] int64 8 72\n"
     ]
    }
   ],
   "source": [
    "a = np.random.randint(1, 101, size=(3, 3))\n",
    "print(a, a.dtype, a.itemsize, a.nbytes)"
   ]
  },
  {
   "cell_type": "markdown",
   "metadata": {},
   "source": [
    "\n",
    "15. Create a 3D NumPy array with 2 matrices of 3 rows and 3 columns filled with the value 5. Transpose the array and print the shape of the transposed array. Can you predict the transpose shape correctly?"
   ]
  },
  {
   "cell_type": "code",
   "execution_count": 38,
   "metadata": {},
   "outputs": [
    {
     "name": "stdout",
     "output_type": "stream",
     "text": [
      "[[[5 5 5]\n",
      "  [5 5 5]\n",
      "  [5 5 5]]\n",
      "\n",
      " [[5 5 5]\n",
      "  [5 5 5]\n",
      "  [5 5 5]]]\n",
      "(3, 3, 2)\n"
     ]
    }
   ],
   "source": [
    "a = np.full((2, 3, 3), 5)\n",
    "print(a)\n",
    "b = a.T\n",
    "print(b.shape)"
   ]
  },
  {
   "cell_type": "code",
   "execution_count": null,
   "metadata": {},
   "outputs": [],
   "source": []
  }
 ],
 "metadata": {
  "kernelspec": {
   "display_name": "cn_ml_course",
   "language": "python",
   "name": "python3"
  },
  "language_info": {
   "codemirror_mode": {
    "name": "ipython",
    "version": 3
   },
   "file_extension": ".py",
   "mimetype": "text/x-python",
   "name": "python",
   "nbconvert_exporter": "python",
   "pygments_lexer": "ipython3",
   "version": "3.12.2"
  }
 },
 "nbformat": 4,
 "nbformat_minor": 2
}
