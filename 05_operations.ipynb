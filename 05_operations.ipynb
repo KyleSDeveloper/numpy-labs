{
 "cells": [
  {
   "cell_type": "markdown",
   "metadata": {},
   "source": [
    "\n",
    "# NumPy Exercises for Operations\n",
    "\n",
    "**Note**: If any exercises require techniques we haven't covered yet - you should look this up! It's part of the learning process, we need to build the muscle of learning how to do things we haven't seen before.\n",
    "\n",
    "Don't be shy, ask for help on Discord!\n",
    "\n",
    "1. Create two 1D NumPy arrays with 5 elements each, filled with random integers between 1 and 10. Perform element-wise addition, subtraction, multiplication, and division on these arrays.\n"
   ]
  },
  {
   "cell_type": "code",
   "execution_count": 1,
   "metadata": {},
   "outputs": [],
   "source": [
    "import numpy as np"
   ]
  },
  {
   "cell_type": "code",
   "execution_count": 6,
   "metadata": {},
   "outputs": [
    {
     "name": "stdout",
     "output_type": "stream",
     "text": [
      "[4 1 7 2 3] [8 6 5 5 8]\n",
      "[12  7 12  7 11] [-4 -5  2 -3 -5] [32  6 35 10 24] [0.5        0.16666667 1.4        0.4        0.375     ]\n"
     ]
    }
   ],
   "source": [
    "a = np.random.randint(1, 11, size=5)\n",
    "b = np.random.randint(1, 11, size=5)\n",
    "print(a, b)\n",
    "add, subtract, multiply, divide = a + b, a - b, a * b, a / b\n",
    "print(add, subtract, multiply, divide)"
   ]
  },
  {
   "cell_type": "markdown",
   "metadata": {},
   "source": [
    "\n",
    "2. Create a 2D NumPy array with 3 rows and 4 columns, filled with random floats between 0 and 1. Multiply each element in the array by 10 and then subtract 5 from each element.\n"
   ]
  },
  {
   "cell_type": "code",
   "execution_count": 10,
   "metadata": {},
   "outputs": [
    {
     "name": "stdout",
     "output_type": "stream",
     "text": [
      "[[0.31194864 0.59953624 0.93517004 0.10108622]\n",
      " [0.7382658  0.93878366 0.34648823 0.9640366 ]\n",
      " [0.0408579  0.6905674  0.91899577 0.89579109]]\n",
      "[[-1.88051358  0.99536244  4.35170041 -3.98913776]\n",
      " [ 2.38265798  4.38783663 -1.53511773  4.64036597]\n",
      " [-4.59142096  1.90567402  4.18995775  3.9579109 ]]\n"
     ]
    }
   ],
   "source": [
    "a = np.random.random((3, 4))\n",
    "print(a)\n",
    "result = a * 10 - 5\n",
    "print(result)\n"
   ]
  },
  {
   "cell_type": "markdown",
   "metadata": {},
   "source": [
    "\n",
    "3. Create two 2D NumPy arrays with 2 rows and 3 columns each, filled with random integers between 1 and 5. Perform matrix multiplication on these arrays using the `@` operator.\n"
   ]
  },
  {
   "cell_type": "code",
   "execution_count": 12,
   "metadata": {},
   "outputs": [
    {
     "name": "stdout",
     "output_type": "stream",
     "text": [
      "[[4 1 1]\n",
      " [3 3 4]] [[3 2 1]\n",
      " [3 1 1]]\n",
      "[[4 3]\n",
      " [1 3]\n",
      " [1 4]]\n",
      "[[25 13 16]\n",
      " [13 10 13]\n",
      " [16 13 17]]\n"
     ]
    }
   ],
   "source": [
    "import numpy as np\n",
    "a = np.random.randint(1, 6, size=(2, 3))\n",
    "b = np.random.randint(1, 6, size=(2, 3))\n",
    "print(a, b)\n",
    "c = a.T\n",
    "print(c)\n",
    "d = c @ a\n",
    "print(d)"
   ]
  },
  {
   "cell_type": "markdown",
   "metadata": {},
   "source": [
    "\n",
    "4. Create a 2D NumPy array with 4 rows and 4 columns, filled with random integers between 1 and 10. Calculate the sum, mean, and standard deviation of all elements in the array.\n"
   ]
  },
  {
   "cell_type": "code",
   "execution_count": 17,
   "metadata": {},
   "outputs": [
    {
     "name": "stdout",
     "output_type": "stream",
     "text": [
      "[[9 6 4 3]\n",
      " [2 5 3 7]\n",
      " [7 2 8 8]\n",
      " [4 7 8 6]]\n",
      "5.5625\n",
      "2.235194342780958\n",
      "89\n"
     ]
    }
   ],
   "source": [
    "a = np.random.randint(1, 11, size=(4, 4))\n",
    "print(a)\n",
    "mean = np.mean(a)\n",
    "print(mean)\n",
    "std = np.std(a)\n",
    "print(std)\n",
    "sum = np.sum(a)\n",
    "print(sum)"
   ]
  },
  {
   "cell_type": "markdown",
   "metadata": {},
   "source": [
    "\n",
    "5. Using the array from exercise 4, calculate the sum, mean, and standard deviation along each row and each column.\n"
   ]
  },
  {
   "cell_type": "code",
   "execution_count": 19,
   "metadata": {},
   "outputs": [
    {
     "name": "stdout",
     "output_type": "stream",
     "text": [
      "[22 17 25 25] [5.5  4.25 6.25 6.25] [2.29128785 1.92028644 2.48746859 1.47901995]\n",
      "[22 20 23 24] [5.5  5.   5.75 6.  ] [2.6925824  1.87082869 2.27760839 1.87082869]\n"
     ]
    }
   ],
   "source": [
    "# rows axis=1\n",
    "sum = np.sum(a, axis=1)\n",
    "mean = np.mean(a, axis=1)\n",
    "std = np.std(a, axis=1)\n",
    "print(sum, mean, std)\n",
    "# columns axis=0\n",
    "ae, b, c = np.sum(a, axis=0), np.mean(a, axis=0), np.std(a, axis=0)\n",
    "print(ae, b, c)\n"
   ]
  },
  {
   "cell_type": "markdown",
   "metadata": {},
   "source": [
    "\n",
    "6. Create a 1D NumPy array with 10 elements, filled with random integers between 1 and 100. Apply the following universal functions to the array: square root, natural logarithm, and exponential.\n"
   ]
  },
  {
   "cell_type": "code",
   "execution_count": 23,
   "metadata": {},
   "outputs": [
    {
     "name": "stdout",
     "output_type": "stream",
     "text": [
      "[8.36660027 2.         8.71779789 9.74679434 9.8488578  6.92820323\n",
      " 8.88819442 9.11043358 8.30662386 8.48528137] [4.24849524 1.38629436 4.33073334 4.55387689 4.57471098 3.87120101\n",
      " 4.36944785 4.41884061 4.2341065  4.27666612] [2.51543867e+30 5.45981500e+01 1.01480039e+33 1.81123908e+41\n",
      " 1.33833472e+42 7.01673591e+20 2.03828107e+34 1.11286375e+36\n",
      " 9.25378173e+29 1.85867175e+31]\n",
      "[70  4 76 95 97 48 79 83 69 72]\n"
     ]
    }
   ],
   "source": [
    "a = np.random.randint(1, 101, size=10)\n",
    "sqrt, log, exp = np.sqrt(a), np.log(a), np.exp(a)\n",
    "print(sqrt, log, exp)\n",
    "print(a)"
   ]
  },
  {
   "cell_type": "markdown",
   "metadata": {},
   "source": [
    "\n",
    "7. Create a 2D NumPy array with 3 rows and 3 columns, filled with random floats between -1 and 1. Apply the following universal functions to the array: absolute value, sine, and cosine.\n"
   ]
  },
  {
   "cell_type": "code",
   "execution_count": null,
   "metadata": {},
   "outputs": [],
   "source": [
    "a = "
   ]
  },
  {
   "cell_type": "markdown",
   "metadata": {},
   "source": [
    "\n",
    "8. Create two 1D NumPy arrays with 6 elements each, filled with random integers between 1 and 10. Perform element-wise comparison operations on these arrays: greater than, less than, and equal to.\n"
   ]
  },
  {
   "cell_type": "code",
   "execution_count": null,
   "metadata": {},
   "outputs": [],
   "source": []
  },
  {
   "cell_type": "markdown",
   "metadata": {},
   "source": [
    "\n",
    "9. Create a 2D NumPy array with 5 rows and 5 columns, filled with random integers between 1 and 100. Find the maximum and minimum values in the array along each row and each column.\n"
   ]
  },
  {
   "cell_type": "code",
   "execution_count": null,
   "metadata": {},
   "outputs": [],
   "source": []
  },
  {
   "cell_type": "markdown",
   "metadata": {},
   "source": [
    "\n",
    "10. Create a 1D NumPy array with 8 elements, filled with random integers between 1 and 20. Calculate the dot product of this array with itself.\n"
   ]
  },
  {
   "cell_type": "code",
   "execution_count": null,
   "metadata": {},
   "outputs": [],
   "source": []
  },
  {
   "cell_type": "markdown",
   "metadata": {},
   "source": [
    "\n",
    "11. Create a 2D NumPy array with 4 rows and 4 columns, filled with random floats between 0 and 1. Apply the following universal functions to the array: ceil, floor, and round.\n"
   ]
  },
  {
   "cell_type": "code",
   "execution_count": null,
   "metadata": {},
   "outputs": [],
   "source": []
  },
  {
   "cell_type": "markdown",
   "metadata": {},
   "source": [
    "\n",
    "12. Create two 2D NumPy arrays with 3 rows and 3 columns each, filled with random integers between 1 and 10. Perform element-wise addition, subtraction, multiplication, and division on these arrays.\n"
   ]
  },
  {
   "cell_type": "code",
   "execution_count": null,
   "metadata": {},
   "outputs": [],
   "source": []
  },
  {
   "cell_type": "markdown",
   "metadata": {},
   "source": [
    "\n",
    "13. Create a 1D NumPy array with 7 elements, filled with random integers between 1 and 100. Calculate the sum of the array using a Python loop and compare the execution time with the NumPy `sum()` function using the `%%timeit` magic command.\n"
   ]
  },
  {
   "cell_type": "code",
   "execution_count": null,
   "metadata": {},
   "outputs": [],
   "source": []
  },
  {
   "cell_type": "markdown",
   "metadata": {},
   "source": [
    "\n",
    "14. Create a 2D NumPy array with 6 rows and 6 columns, filled with random floats between -10 and 10. Apply the following universal functions to the array: hyperbolic sine, hyperbolic cosine, and hyperbolic tangent. (Practice those look up skills!)\n"
   ]
  },
  {
   "cell_type": "code",
   "execution_count": null,
   "metadata": {},
   "outputs": [],
   "source": []
  },
  {
   "cell_type": "markdown",
   "metadata": {},
   "source": [
    "\n",
    "15. Create two 1D NumPy arrays with 100 elements each, filled with random floats between 0 and 1. Perform element-wise multiplication on these arrays using a Python loop and compare the execution time with the NumPy element-wise multiplication using the `%%timeit` magic command."
   ]
  },
  {
   "cell_type": "code",
   "execution_count": null,
   "metadata": {},
   "outputs": [],
   "source": []
  }
 ],
 "metadata": {
  "kernelspec": {
   "display_name": "cn_ml_course",
   "language": "python",
   "name": "python3"
  },
  "language_info": {
   "codemirror_mode": {
    "name": "ipython",
    "version": 3
   },
   "file_extension": ".py",
   "mimetype": "text/x-python",
   "name": "python",
   "nbconvert_exporter": "python",
   "pygments_lexer": "ipython3",
   "version": "3.12.2"
  }
 },
 "nbformat": 4,
 "nbformat_minor": 2
}
